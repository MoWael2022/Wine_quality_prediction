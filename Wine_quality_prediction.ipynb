{
  "nbformat": 4,
  "nbformat_minor": 0,
  "metadata": {
    "colab": {
      "provenance": [],
      "authorship_tag": "ABX9TyMJ1B08iq67bakE1Q4KndJF"
    },
    "kernelspec": {
      "name": "python3",
      "display_name": "Python 3"
    },
    "language_info": {
      "name": "python"
    }
  },
  "cells": [
    {
      "cell_type": "code",
      "execution_count": null,
      "metadata": {
        "id": "TFssscQygFc-"
      },
      "outputs": [],
      "source": [
        "import matplotlib.pyplot as plt\n",
        "from sklearn.model_selection import train_test_split, cross_val_score\n",
        "from sklearn.preprocessing import PolynomialFeatures\n",
        "from sklearn.linear_model import LinearRegression ,LogisticRegression\n",
        "from sklearn.metrics import mean_squared_error, r2_score ,mean_absolute_error\n",
        "from sklearn.preprocessing import LabelEncoder, StandardScaler,MinMaxScaler\n",
        "from sklearn.feature_selection import SelectKBest, chi2, f_regression\n",
        "import pandas as pd"
      ]
    },
    {
      "cell_type": "markdown",
      "source": [
        "Load the data"
      ],
      "metadata": {
        "id": "bvg2TBAgkl-m"
      }
    },
    {
      "cell_type": "code",
      "source": [
        "my_data = pd.read_csv('/content/winequality-red.csv')"
      ],
      "metadata": {
        "id": "s8fSnTlwkG95"
      },
      "execution_count": null,
      "outputs": []
    },
    {
      "cell_type": "markdown",
      "source": [
        "Drop duplicate rows"
      ],
      "metadata": {
        "id": "F1VOPoG3kqNV"
      }
    },
    {
      "cell_type": "code",
      "source": [
        "my_data = my_data.drop_duplicates()"
      ],
      "metadata": {
        "id": "oD9sExmnkokS"
      },
      "execution_count": null,
      "outputs": []
    },
    {
      "cell_type": "markdown",
      "source": [
        "handle null values"
      ],
      "metadata": {
        "id": "hTj_BoTAksu_"
      }
    },
    {
      "cell_type": "code",
      "source": [
        "null_threshold = 0.7\n",
        "\n",
        "\n",
        "def drop_columns_with_high_null_percentage(df, threshold=0.7):\n",
        "    # Calculate the null percentage for each column\n",
        "    null_percentage = df.isnull().mean()\n",
        "\n",
        "    # Identify columns with null percentage exceeding the threshold\n",
        "    columns_to_drop = null_percentage[null_percentage > threshold].index.tolist()\n",
        "\n",
        "    # Drop the identified columns\n",
        "    df_dropped = df.drop(columns=columns_to_drop)\n",
        "\n",
        "    for column in df_dropped.columns:\n",
        "        if df_dropped[column].dtype == 'object':\n",
        "            # For categorical columns, fill with the mode\n",
        "            mode_value = df_dropped[column].mode()[0]\n",
        "            df_dropped[column].fillna(mode_value, inplace=True)\n",
        "        else:\n",
        "            # For numeric columns, fill with the mean\n",
        "            mean_value = df_dropped[column].mean()\n",
        "            df_dropped[column].fillna(mean_value, inplace=True)\n",
        "\n",
        "    return df_dropped\n",
        "\n",
        "my_data = drop_columns_with_high_null_percentage(my_data, null_threshold)"
      ],
      "metadata": {
        "id": "xi6fw0pdkxzf"
      },
      "execution_count": null,
      "outputs": []
    },
    {
      "cell_type": "markdown",
      "source": [
        "Define numerical columns"
      ],
      "metadata": {
        "id": "luT-BNXnlH_A"
      }
    },
    {
      "cell_type": "code",
      "source": [
        "numerical_columns = my_data.select_dtypes(include=['int64', 'float64']).columns"
      ],
      "metadata": {
        "id": "BCG_BW8NlI-4"
      },
      "execution_count": null,
      "outputs": []
    },
    {
      "cell_type": "markdown",
      "source": [
        "handle outliers\n"
      ],
      "metadata": {
        "id": "DcXv3s4xmwgf"
      }
    },
    {
      "cell_type": "code",
      "source": [
        "for i in numerical_columns:\n",
        "    Q1 :float = my_data[i].quantile(0.25)\n",
        "    Q3:float = my_data[i].quantile(0.75)\n",
        "    IQR = Q3 - Q1\n",
        "    up_limit:float = Q3 + 1.5 * IQR\n",
        "    low_limit:float = Q1 - 1.5 * IQR\n",
        "    my_data.loc[my_data[i] > up_limit, i] :float= up_limit\n",
        "    my_data.loc[my_data[i] < low_limit, i] :float= low_limit"
      ],
      "metadata": {
        "id": "2Ndg94LtmHJS"
      },
      "execution_count": null,
      "outputs": []
    },
    {
      "cell_type": "markdown",
      "source": [
        "Separate features and target variable"
      ],
      "metadata": {
        "id": "lP343bESk8Re"
      }
    },
    {
      "cell_type": "code",
      "source": [
        "x = my_data.drop(columns=['quality'])\n",
        "y = my_data['quality']"
      ],
      "metadata": {
        "id": "DcoyK38NlA_f"
      },
      "execution_count": null,
      "outputs": []
    },
    {
      "cell_type": "markdown",
      "source": [
        "Split the data into training and test sets"
      ],
      "metadata": {
        "id": "JsR2gih1lBrr"
      }
    },
    {
      "cell_type": "code",
      "source": [
        "x_train, x_test, y_train, y_test = train_test_split(x, y, test_size=0.22, random_state=42)"
      ],
      "metadata": {
        "id": "IyZP9w3TlDcr"
      },
      "execution_count": null,
      "outputs": []
    },
    {
      "cell_type": "markdown",
      "source": [
        "Feature scaling using StandardScaler"
      ],
      "metadata": {
        "id": "hNWPNd4ZlK3K"
      }
    },
    {
      "cell_type": "code",
      "source": [
        "numerical_columns = x_train.select_dtypes(include=['int64', 'float64']).columns\n",
        "scaler = StandardScaler()\n",
        "x_train[numerical_columns] = scaler.fit_transform(x_train[numerical_columns])\n",
        "x_test[numerical_columns] = scaler.transform(x_test[numerical_columns])"
      ],
      "metadata": {
        "id": "-tZy9ZO6lNa_"
      },
      "execution_count": null,
      "outputs": []
    },
    {
      "cell_type": "markdown",
      "source": [
        "Feature selection"
      ],
      "metadata": {
        "id": "bc9JA7AklPzn"
      }
    },
    {
      "cell_type": "code",
      "source": [
        "k_best_selector = SelectKBest(score_func=f_regression, k=8)\n",
        "x_train = k_best_selector.fit_transform(x_train, y_train)\n",
        "x_test = k_best_selector.transform(x_test)"
      ],
      "metadata": {
        "id": "MJpvyX4RlR1R"
      },
      "execution_count": null,
      "outputs": []
    },
    {
      "cell_type": "markdown",
      "source": [
        "Polynomial feature expansion"
      ],
      "metadata": {
        "id": "n-wxwaG5lWGY"
      }
    },
    {
      "cell_type": "code",
      "source": [
        "#\n",
        "degree = 2  # Adjust the degree as needed\n",
        "poly_features = PolynomialFeatures(degree=degree)\n",
        "x_train_poly = poly_features.fit_transform(x_train)\n",
        "x_test_poly = poly_features.transform(x_test)"
      ],
      "metadata": {
        "id": "86ztbwvdlW3X"
      },
      "execution_count": null,
      "outputs": []
    },
    {
      "cell_type": "markdown",
      "source": [
        "Model training and evaluation"
      ],
      "metadata": {
        "id": "M1r4wnuVleuv"
      }
    },
    {
      "cell_type": "code",
      "source": [
        "model = LinearRegression()\n",
        "model.fit(x_train_poly, y_train)\n",
        "y_pred = model.predict(x_test_poly)\n",
        "mse = mean_squared_error(y_test, y_pred)\n",
        "MAE = mean_absolute_error(y_test,y_pred)"
      ],
      "metadata": {
        "id": "dGH7MADDlgvx"
      },
      "execution_count": null,
      "outputs": []
    },
    {
      "cell_type": "markdown",
      "source": [
        "Print the results"
      ],
      "metadata": {
        "id": "rT9zuP5Ylij4"
      }
    },
    {
      "cell_type": "code",
      "source": [
        "print(f'Mean Squared Error: {mse}')\n",
        "\n",
        "print(f'Mean Absolute Error: {MAE}')\n",
        "\n",
        "plt.scatter(y_test, y_pred)\n",
        "plt.plot(y_test, y_test, color='red')\n",
        "plt.xlabel('y-test data')\n",
        "plt.ylabel('predicted data (polynomial)')\n",
        "plt.show()"
      ],
      "metadata": {
        "colab": {
          "base_uri": "https://localhost:8080/",
          "height": 486
        },
        "id": "_iFbc4xVlkrW",
        "outputId": "543b672a-c27e-4225-a575-cd375695e676"
      },
      "execution_count": null,
      "outputs": [
        {
          "output_type": "stream",
          "name": "stdout",
          "text": [
            "Mean Squared Error: 0.3471178686740631\n",
            "Mean Absolute Error: 0.46503359810477507\n"
          ]
        },
        {
          "output_type": "display_data",
          "data": {
            "text/plain": [
              "<Figure size 640x480 with 1 Axes>"
            ],
            "image/png": "[encoded data removed]"
          },
          "metadata": {}
        }
      ]
    }
  ]
}